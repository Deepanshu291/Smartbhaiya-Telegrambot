{
 "cells": [
  {
   "cell_type": "code",
   "execution_count": 1,
   "metadata": {},
   "outputs": [],
   "source": [
    "import os\n",
    "from pathlib import Path\n",
    "import re"
   ]
  },
  {
   "cell_type": "code",
   "execution_count": null,
   "metadata": {},
   "outputs": [
    {
     "data": {
      "text/plain": [
       "['book', 'Marks Wise Question', 'notes', 'solution', 'test']"
      ]
     },
     "execution_count": 40,
     "metadata": {},
     "output_type": "execute_result"
    }
   ],
   "source": [
    "dirs = os.listdir('./10science')\n",
    "dirs\n"
   ]
  },
  {
   "cell_type": "code",
   "execution_count": 77,
   "metadata": {},
   "outputs": [],
   "source": [
    "filepaths:Path = []\n",
    "for dr in dirs:\n",
    "    dirpath = Path(f'./10science/{dr}')\n",
    "    filepaths.append(dirpath.iterdir())"
   ]
  },
  {
   "cell_type": "code",
   "execution_count": 78,
   "metadata": {},
   "outputs": [
    {
     "data": {
      "text/plain": [
       "[<generator object Path.iterdir at 0x0000020BEFE1E880>,\n",
       " <generator object Path.iterdir at 0x0000020BEFE1DD20>,\n",
       " <generator object Path.iterdir at 0x0000020BEFE1E960>,\n",
       " <generator object Path.iterdir at 0x0000020BEFE1FD80>,\n",
       " <generator object Path.iterdir at 0x0000020BEFE1D7E0>]"
      ]
     },
     "execution_count": 78,
     "metadata": {},
     "output_type": "execute_result"
    }
   ],
   "source": [
    "filepaths"
   ]
  },
  {
   "cell_type": "code",
   "execution_count": 93,
   "metadata": {},
   "outputs": [
    {
     "name": "stdout",
     "output_type": "stream",
     "text": [
      "[]\n"
     ]
    }
   ],
   "source": [
    "dirfiles = {}\n",
    "i =0\n",
    "for filepath in filepaths:\n",
    "    files = [f.name for f in filepath if f.is_file()]\n",
    "    dirfiles[dirs[i]] = files\n",
    "    i+=1\n",
    "print(files)\n"
   ]
  },
  {
   "cell_type": "code",
   "execution_count": 25,
   "metadata": {},
   "outputs": [
    {
     "name": "stdout",
     "output_type": "stream",
     "text": [
      "{'book': ['ch-1.pdf', 'ch-2.pdf', 'ch-3.pdf', 'ch-4.pdf', 'ch-5.pdf', 'ch-6.pdf', 'ch-7.pdf', 'ch-8.pdf', 'ch-9.pdf', 'ch-10.pdf', 'ch-11.pdf', 'ch-12.pdf', 'ch-13.pdf', 'ch-14.pdf', 'ch-15.pdf'], 'Marks_Wise_Question': ['Ch-1 Chemical reaction and equation.pdf', 'Ch-2 Acids bases and salts.pdf', 'Ch-3 metals and non metals.pdf', 'Ch-4 carbon and it_s compound.pdf', 'Ch-6 life process .pdf', 'Ch-7 control And Coordinate.pdf', 'Ch-8 How organism Reproduction.pdf', 'Ch-9 Heredity and Evolution.pdf', 'Ch-10 Light.pdf', 'Ch-11 Human Eye and ....pdf', 'Ch-13 magnetic effect of current.pdf', 'Ch-15 Our Environment.pdf'], 'notes': ['CH-1 Chemical Reaction.pdf', 'CH-2 Acids, Bases and Salts.pdf', 'Ch-3 METALS AND NON-METALS.pdf', 'CH-4 CARBON AND ITS COMPOUNDS.pdf', 'CH-5 PERIODIC CLASSIFICATION.pdf', 'CH-6 LIFE PROCESS_compressed.pdf', 'CH-8 HOW DO ORGANISM REPRODUCE.pdf', 'CH-9 HEREDITY.pdf', 'CH-10 Light.pdf', 'CH-11 HUMAN EYE AND COLOURFULL WORLD.pdf', 'CH-12 Electricity.pdf', 'Ch-13 MAGNETIC EFFECTS OF CURRENT.pdf', 'CH-15  OUR ENVIRONMENT.pdf'], 'solution': ['ch1.pdf', 'ch2.pdf', 'ch3.pdf', 'ch4.pdf', 'ch5.pdf', 'ch6.pdf', 'ch7.pdf', 'ch8.pdf', 'ch9.pdf', 'ch10.pdf', 'ch11.pdf', 'ch12.pdf', 'ch13.pdf', 'ch14.pdf', 'ch15.pdf', 'ch16.pdf'], 'test': ['.emptyFolderPlaceholder']}\n"
     ]
    }
   ],
   "source": [
    "base_dir = Path('./10science')\n",
    "\n",
    "# Create a dictionary with directory names as keys and list of files as values\n",
    "# dirfiles = {\n",
    "#     dr.name: [f.name for f in dr.iterdir() if f.is_file()]\n",
    "#     for dr in base_dir.iterdir() if dr.is_dir()\n",
    "# }\n",
    "\n",
    "\n",
    "dirfiles = {\n",
    "    dr.name: sorted(\n",
    "        ( f.name for f in dr.iterdir() if f.is_file()),\n",
    "        key=lambda x: int(re.search(r'(\\d+)', x).group() if re.search(r'(\\d+)', x) else 0)  # Safe number extraction\n",
    "    )\n",
    "    for dr in base_dir.iterdir() if dr.is_dir()\n",
    "}\n",
    "\n",
    "# Print the result\n",
    "print(dirfiles)"
   ]
  },
  {
   "cell_type": "code",
   "execution_count": 26,
   "metadata": {},
   "outputs": [
    {
     "name": "stdout",
     "output_type": "stream",
     "text": [
      "./10science/book/ch-1.pdf\n",
      "./10science/book/ch-2.pdf\n",
      "./10science/book/ch-3.pdf\n",
      "./10science/book/ch-4.pdf\n",
      "./10science/book/ch-5.pdf\n",
      "./10science/book/ch-6.pdf\n",
      "./10science/book/ch-7.pdf\n",
      "./10science/book/ch-8.pdf\n",
      "./10science/book/ch-9.pdf\n",
      "./10science/book/ch-10.pdf\n",
      "./10science/book/ch-11.pdf\n",
      "./10science/book/ch-12.pdf\n",
      "./10science/book/ch-13.pdf\n",
      "./10science/book/ch-14.pdf\n",
      "./10science/book/ch-15.pdf\n",
      "./10science/Marks_Wise_Question/Ch-1 Chemical reaction and equation.pdf\n",
      "./10science/Marks_Wise_Question/Ch-2 Acids bases and salts.pdf\n",
      "./10science/Marks_Wise_Question/Ch-3 metals and non metals.pdf\n",
      "./10science/Marks_Wise_Question/Ch-4 carbon and it_s compound.pdf\n",
      "./10science/Marks_Wise_Question/Ch-6 life process .pdf\n",
      "./10science/Marks_Wise_Question/Ch-7 control And Coordinate.pdf\n",
      "./10science/Marks_Wise_Question/Ch-8 How organism Reproduction.pdf\n",
      "./10science/Marks_Wise_Question/Ch-9 Heredity and Evolution.pdf\n",
      "./10science/Marks_Wise_Question/Ch-10 Light.pdf\n",
      "./10science/Marks_Wise_Question/Ch-11 Human Eye and ....pdf\n",
      "./10science/Marks_Wise_Question/Ch-13 magnetic effect of current.pdf\n",
      "./10science/Marks_Wise_Question/Ch-15 Our Environment.pdf\n",
      "./10science/notes/CH-1 Chemical Reaction.pdf\n",
      "./10science/notes/CH-2 Acids, Bases and Salts.pdf\n",
      "./10science/notes/Ch-3 METALS AND NON-METALS.pdf\n",
      "./10science/notes/CH-4 CARBON AND ITS COMPOUNDS.pdf\n",
      "./10science/notes/CH-5 PERIODIC CLASSIFICATION.pdf\n",
      "./10science/notes/CH-6 LIFE PROCESS_compressed.pdf\n",
      "./10science/notes/CH-8 HOW DO ORGANISM REPRODUCE.pdf\n",
      "./10science/notes/CH-9 HEREDITY.pdf\n",
      "./10science/notes/CH-10 Light.pdf\n",
      "./10science/notes/CH-11 HUMAN EYE AND COLOURFULL WORLD.pdf\n",
      "./10science/notes/CH-12 Electricity.pdf\n",
      "./10science/notes/Ch-13 MAGNETIC EFFECTS OF CURRENT.pdf\n",
      "./10science/notes/CH-15  OUR ENVIRONMENT.pdf\n",
      "./10science/solution/ch1.pdf\n",
      "./10science/solution/ch2.pdf\n",
      "./10science/solution/ch3.pdf\n",
      "./10science/solution/ch4.pdf\n",
      "./10science/solution/ch5.pdf\n",
      "./10science/solution/ch6.pdf\n",
      "./10science/solution/ch7.pdf\n",
      "./10science/solution/ch8.pdf\n",
      "./10science/solution/ch9.pdf\n",
      "./10science/solution/ch10.pdf\n",
      "./10science/solution/ch11.pdf\n",
      "./10science/solution/ch12.pdf\n",
      "./10science/solution/ch13.pdf\n",
      "./10science/solution/ch14.pdf\n",
      "./10science/solution/ch15.pdf\n",
      "./10science/solution/ch16.pdf\n",
      "./10science/test/.emptyFolderPlaceholder\n"
     ]
    }
   ],
   "source": [
    "# for k in dirfiles.keys():\n",
    "#     url = dirfiles[k]\n",
    "#     for u in url:\n",
    "#         print(f\"./{base_dir}/{k}/{u}\")\n",
    "\n",
    "for k,urls in dirfiles.items():\n",
    "    for u in urls:\n",
    "        print(f\"./{base_dir}/{k}/{u}\")"
   ]
  },
  {
   "cell_type": "code",
   "execution_count": 27,
   "metadata": {},
   "outputs": [
    {
     "name": "stdout",
     "output_type": "stream",
     "text": [
      "{'book': ['./10science/book/ch-1.pdf', './10science/book/ch-2.pdf', './10science/book/ch-3.pdf', './10science/book/ch-4.pdf', './10science/book/ch-5.pdf', './10science/book/ch-6.pdf', './10science/book/ch-7.pdf', './10science/book/ch-8.pdf', './10science/book/ch-9.pdf', './10science/book/ch-10.pdf', './10science/book/ch-11.pdf', './10science/book/ch-12.pdf', './10science/book/ch-13.pdf', './10science/book/ch-14.pdf', './10science/book/ch-15.pdf'], 'Marks_Wise_Question': ['./10science/Marks_Wise_Question/Ch-1 Chemical reaction and equation.pdf', './10science/Marks_Wise_Question/Ch-2 Acids bases and salts.pdf', './10science/Marks_Wise_Question/Ch-3 metals and non metals.pdf', './10science/Marks_Wise_Question/Ch-4 carbon and it_s compound.pdf', './10science/Marks_Wise_Question/Ch-6 life process .pdf', './10science/Marks_Wise_Question/Ch-7 control And Coordinate.pdf', './10science/Marks_Wise_Question/Ch-8 How organism Reproduction.pdf', './10science/Marks_Wise_Question/Ch-9 Heredity and Evolution.pdf', './10science/Marks_Wise_Question/Ch-10 Light.pdf', './10science/Marks_Wise_Question/Ch-11 Human Eye and ....pdf', './10science/Marks_Wise_Question/Ch-13 magnetic effect of current.pdf', './10science/Marks_Wise_Question/Ch-15 Our Environment.pdf'], 'notes': ['./10science/notes/CH-1 Chemical Reaction.pdf', './10science/notes/CH-2 Acids, Bases and Salts.pdf', './10science/notes/Ch-3 METALS AND NON-METALS.pdf', './10science/notes/CH-4 CARBON AND ITS COMPOUNDS.pdf', './10science/notes/CH-5 PERIODIC CLASSIFICATION.pdf', './10science/notes/CH-6 LIFE PROCESS_compressed.pdf', './10science/notes/CH-8 HOW DO ORGANISM REPRODUCE.pdf', './10science/notes/CH-9 HEREDITY.pdf', './10science/notes/CH-10 Light.pdf', './10science/notes/CH-11 HUMAN EYE AND COLOURFULL WORLD.pdf', './10science/notes/CH-12 Electricity.pdf', './10science/notes/Ch-13 MAGNETIC EFFECTS OF CURRENT.pdf', './10science/notes/CH-15  OUR ENVIRONMENT.pdf'], 'solution': ['./10science/solution/ch1.pdf', './10science/solution/ch2.pdf', './10science/solution/ch3.pdf', './10science/solution/ch4.pdf', './10science/solution/ch5.pdf', './10science/solution/ch6.pdf', './10science/solution/ch7.pdf', './10science/solution/ch8.pdf', './10science/solution/ch9.pdf', './10science/solution/ch10.pdf', './10science/solution/ch11.pdf', './10science/solution/ch12.pdf', './10science/solution/ch13.pdf', './10science/solution/ch14.pdf', './10science/solution/ch15.pdf', './10science/solution/ch16.pdf'], 'test': ['./10science/test/.emptyFolderPlaceholder']}\n"
     ]
    }
   ],
   "source": [
    "result = {k: [f\"./{base_dir}/{k}/{u}\" for u in v] for k,v in dirfiles.items()}\n",
    "\n",
    "print(result)"
   ]
  },
  {
   "cell_type": "code",
   "execution_count": 54,
   "metadata": {},
   "outputs": [],
   "source": [
    "# for k,u in result.items():\n",
    "#     print({k:u[0]})\n",
    "\n",
    "def chpterwise(i):\n",
    "    chp = {}\n",
    "    for k,u in result.items():\n",
    "        if i < len(u):\n",
    "            chp[k]=u[i]\n",
    "        else:\n",
    "            chp[k]=\"\"\n",
    "    return chp\n",
    "\n",
    "chpterwised = {}\n",
    "# chpterwised[1] = chpterwise(0)\n",
    "for i in range(15):\n",
    "    chpterwised[i+1] = chpterwise(i)"
   ]
  },
  {
   "cell_type": "code",
   "execution_count": 64,
   "metadata": {},
   "outputs": [
    {
     "data": {
      "text/plain": [
       "{'book': './10science/book/ch-7.pdf',\n",
       " 'Marks_Wise_Question': './10science/Marks_Wise_Question/Ch-8 How organism Reproduction.pdf',\n",
       " 'notes': './10science/notes/CH-8 HOW DO ORGANISM REPRODUCE.pdf',\n",
       " 'solution': './10science/solution/ch7.pdf',\n",
       " 'test': ''}"
      ]
     },
     "execution_count": 64,
     "metadata": {},
     "output_type": "execute_result"
    }
   ],
   "source": [
    "chpterwised[7]"
   ]
  },
  {
   "cell_type": "code",
   "execution_count": 30,
   "metadata": {},
   "outputs": [],
   "source": [
    "dfilepath = []\n",
    "for key,u in dirfiles.items():\n",
    "    dfilepath.append(f'./10science/{key}/{(v for v in u)}'  )"
   ]
  },
  {
   "cell_type": "code",
   "execution_count": 31,
   "metadata": {},
   "outputs": [
    {
     "data": {
      "text/plain": [
       "['./10science/book/<generator object <genexpr> at 0x0000021C2F429D80>',\n",
       " './10science/Marks_Wise_Question/<generator object <genexpr> at 0x0000021C2F429D80>',\n",
       " './10science/notes/<generator object <genexpr> at 0x0000021C2F429D80>',\n",
       " './10science/solution/<generator object <genexpr> at 0x0000021C2F429D80>',\n",
       " './10science/test/<generator object <genexpr> at 0x0000021C2F429D80>']"
      ]
     },
     "execution_count": 31,
     "metadata": {},
     "output_type": "execute_result"
    }
   ],
   "source": [
    "dfilepath"
   ]
  },
  {
   "cell_type": "code",
   "execution_count": 111,
   "metadata": {},
   "outputs": [
    {
     "name": "stdout",
     "output_type": "stream",
     "text": [
      "'ch-1 ch-1 chemical reaction and equation.pdf': ['10science\\\\book\\\\ch-1.pdf', '10science\\\\book\\\\ch-10.pdf', '10science\\\\book\\\\ch-11.pdf', '10science\\\\book\\\\ch-12.pdf', '10science\\\\book\\\\ch-13.pdf', '10science\\\\book\\\\ch-14.pdf', '10science\\\\book\\\\ch-15.pdf', '10science\\\\Marks Wise Question\\\\Ch-1 Chemical reaction and equation.pdf', '10science\\\\Marks Wise Question\\\\Ch-10 Light.pdf', '10science\\\\Marks Wise Question\\\\Ch-11 Human Eye and ....pdf', '10science\\\\Marks Wise Question\\\\Ch-13 magnetic effect of current.pdf', '10science\\\\Marks Wise Question\\\\Ch-15 Our Environment.pdf', '10science\\\\notes\\\\CH-1 Chemical Reaction.pdf', '10science\\\\notes\\\\CH-10 Light.pdf', '10science\\\\notes\\\\CH-11 HUMAN EYE AND COLOURFULL WORLD.pdf', '10science\\\\notes\\\\CH-12 Electricity.pdf', '10science\\\\notes\\\\Ch-13 MAGNETIC EFFECTS OF CURRENT.pdf', '10science\\\\notes\\\\CH-15  OUR ENVIRONMENT.pdf']\n",
      "'ch-2 ch-2 acids bases and salts.pdf': ['10science\\\\book\\\\ch-2.pdf', '10science\\\\Marks Wise Question\\\\Ch-2 Acids bases and salts.pdf', '10science\\\\notes\\\\CH-2 Acids, Bases and Salts.pdf']\n",
      "'ch-3 ch-3 metals and non metals.pdf': ['10science\\\\book\\\\ch-3.pdf', '10science\\\\Marks Wise Question\\\\Ch-3 metals and non metals.pdf', '10science\\\\notes\\\\Ch-3 METALS AND NON-METALS.pdf']\n",
      "'ch-4 ch-4 carbon and it_s compound.pdf': ['10science\\\\book\\\\ch-4.pdf', '10science\\\\Marks Wise Question\\\\Ch-4 carbon and it_s compound.pdf', '10science\\\\notes\\\\CH-4 CARBON AND ITS COMPOUNDS.pdf']\n",
      "'ch-6 ch-6 life process .pdf': ['10science\\\\book\\\\ch-6.pdf', '10science\\\\Marks Wise Question\\\\Ch-6 life process .pdf', '10science\\\\notes\\\\CH-6 LIFE PROCESS_compressed.pdf']\n",
      "'ch-7 ch-7 control and coordinate.pdf': ['10science\\\\book\\\\ch-7.pdf', '10science\\\\Marks Wise Question\\\\Ch-7 control And Coordinate.pdf']\n",
      "'ch-8 ch-8 how organism reproduction.pdf': ['10science\\\\book\\\\ch-8.pdf', '10science\\\\Marks Wise Question\\\\Ch-8 How organism Reproduction.pdf', '10science\\\\notes\\\\CH-8 HOW DO ORGANISM REPRODUCE.pdf']\n",
      "'ch-9 ch-9 heredity and evolution.pdf': ['10science\\\\book\\\\ch-9.pdf', '10science\\\\Marks Wise Question\\\\Ch-9 Heredity and Evolution.pdf', '10science\\\\notes\\\\CH-9 HEREDITY.pdf']\n",
      "'ch-10 ch-10 light.pdf': ['10science\\\\book\\\\ch-10.pdf', '10science\\\\Marks Wise Question\\\\Ch-10 Light.pdf', '10science\\\\notes\\\\CH-10 Light.pdf']\n",
      "'ch-11 ch-11 human eye and ....pdf': ['10science\\\\book\\\\ch-11.pdf', '10science\\\\Marks Wise Question\\\\Ch-11 Human Eye and ....pdf', '10science\\\\notes\\\\CH-11 HUMAN EYE AND COLOURFULL WORLD.pdf']\n",
      "'ch-13 ch-13 magnetic effect of current.pdf': ['10science\\\\book\\\\ch-13.pdf', '10science\\\\Marks Wise Question\\\\Ch-13 magnetic effect of current.pdf', '10science\\\\notes\\\\Ch-13 MAGNETIC EFFECTS OF CURRENT.pdf']\n",
      "'ch-15 ch-15 our environment.pdf': ['10science\\\\book\\\\ch-15.pdf', '10science\\\\Marks Wise Question\\\\Ch-15 Our Environment.pdf', '10science\\\\notes\\\\CH-15  OUR ENVIRONMENT.pdf']\n"
     ]
    }
   ],
   "source": [
    "base_dir = Path('./10science')  # Base directory where files are located\n",
    "new_dict = {}\n",
    "\n",
    "# Iterate over 'Marks Wise Question' to create keys\n",
    "for mark_key in dirfiles['Marks Wise Question']:\n",
    "    # Extract chapter number and title from 'Marks Wise Question' key\n",
    "    match = re.match(r'(Ch-\\d+)', mark_key)\n",
    "    if match:\n",
    "        chapter_key = match.group(1).lower()  # Use lowercase chapter format like 'ch-1'\n",
    "        chapter_title = mark_key.replace(chapter_key, '').strip().lower()  # Title of chapter after removing the chapter number\n",
    "        \n",
    "        # Form a key like 'ch-1 chemical reaction and equation'\n",
    "        new_key = f\"{chapter_key} {chapter_title}\"\n",
    "\n",
    "        # Initialize the value list for the new dictionary key\n",
    "        new_dict[new_key] = []\n",
    "        \n",
    "        # Add paths to the value list for this chapter key\n",
    "        for category, files in dirfiles.items():\n",
    "            for file in files:\n",
    "                # Check if the filename contains the chapter number to match across categories\n",
    "                if chapter_key in file.lower():\n",
    "                    file_path = base_dir / category / file\n",
    "                    new_dict[new_key].append(str(file_path))\n",
    "\n",
    "# Print the result\n",
    "for key, value in new_dict.items():\n",
    "    print(f\"'{key}': {value}\")"
   ]
  },
  {
   "cell_type": "code",
   "execution_count": 36,
   "metadata": {},
   "outputs": [
    {
     "name": "stdout",
     "output_type": "stream",
     "text": [
      "['ch-1.pdf', 'ch-2.pdf', 'ch-3.pdf', 'ch-4.pdf', 'ch-5.pdf', 'ch-6.pdf', 'ch-7.pdf', 'ch-8.pdf', 'ch-9.pdf', 'ch-10.pdf', 'ch-11.pdf', 'ch-12.pdf', 'ch-13.pdf', 'ch-14.pdf', 'ch-15.pdf']\n"
     ]
    }
   ],
   "source": [
    "import re\n",
    "sorted_chpt = sorted(chpt, key=lambda x: int(re.search(r'(\\d+)', x).group()))\n",
    "\n",
    "print(sorted_chpt)"
   ]
  },
  {
   "cell_type": "code",
   "execution_count": 167,
   "metadata": {},
   "outputs": [],
   "source": [
    "import re\n",
    "from pathlib import Path\n",
    "\n",
    "class ChapterOrganizer:\n",
    "    def __init__(self):\n",
    "        # Initialize with a specific directory\n",
    "        self.base_dir:Path = Path('')  # base_dir is now an argument\n",
    "        self.dirfiles = {}\n",
    "        self.result = {}\n",
    "        self.chpterwised = {}\n",
    "\n",
    "    def load_files(self):\n",
    "        # Traverse the directory and organize files in each subdirectory\n",
    "        self.dirfiles = {\n",
    "            dr.name: sorted(\n",
    "                (f.name for f in dr.iterdir() if f.is_file()),\n",
    "                key=lambda x: int(re.search(r'(\\d+)', x).group() if re.search(r'(\\d+)', x) else 0)  # Safe number extraction\n",
    "            )\n",
    "            for dr in self.base_dir.iterdir() if dr.is_dir()\n",
    "        }\n",
    "\n",
    "    def create_result(self):\n",
    "        # Create a dictionary of file paths for each subdirectory\n",
    "        self.result = {k: [f\"./{self.base_dir}/{k}/{u}\" for u in v] for k, v in self.dirfiles.items()}\n",
    "\n",
    "    def extract_name_from_marks_wise(self, filepath):\n",
    "        # Extract the chapter name from the Marks_Wise_Question file path\n",
    "        match = re.search(r'(Chapter \\d+) (.+)\\.pdf', filepath)\n",
    "        if match:\n",
    "            chpno = match.group(1)\n",
    "            chnm = match.group(2)\n",
    "            return f\"{chpno.capitalize()} {chnm.capitalize()}\"\n",
    "        return \"\"\n",
    "\n",
    "    def chpterwise(self, i):\n",
    "        # For a given index i, extract the files for that chapter from the result\n",
    "        chp = {}\n",
    "        chaptername=\"\"\n",
    "        for k, u in self.result.items():\n",
    "            if i < len(u):\n",
    "                chp[k] = u[i]  # Safely add the file at index i\n",
    "                if 'notes' in u[i]:\n",
    "                    chaptername = self.extract_name_from_marks_wise(u[i])\n",
    "            else:\n",
    "                chp[k] = \"\"  # Return empty string if index is out of range\n",
    "        chp['name'] = chaptername\n",
    "        return chp\n",
    "\n",
    "    def organize_chapters(self,n):\n",
    "        # Organize the files chapter-wise\n",
    "        n = n if n is not None else 15\n",
    "        for i in range(n):  # Assuming there are 15 chapters\n",
    "            self.chpterwised[i + 1] = self.chpterwise(i)\n",
    "\n",
    "    def get_chapterwise_data(self):\n",
    "        return self.chpterwised\n",
    "    \n",
    "    def query(self, chapter_no:int=None, category:str=None):\n",
    "        # If only category is provided, return all chapters with name and filepath for that category\n",
    "        if category and not chapter_no:\n",
    "            result = {}\n",
    "            for ch_no, data in self.chpterwised.items():\n",
    "                if category in data:\n",
    "                    result[ch_no] = {\n",
    "                        'name': data.get('name', ''),\n",
    "                        'filepath': data.get(category, '')\n",
    "                    }\n",
    "            return result\n",
    "\n",
    "        # If chapter_no and category are provided, return specific chapter and category\n",
    "        if chapter_no and category:\n",
    "            data = self.chpterwised.get(chapter_no, {})\n",
    "            if category in data:\n",
    "                return {\n",
    "                    'name': data.get('name', ''),\n",
    "                    'filepath': data.get(category, '')\n",
    "                }\n",
    "\n",
    "        # If neither is provided, return an empty dictionary\n",
    "        return {}\n",
    "    \n",
    "    def get_len(self, category: str):\n",
    "        # Get the length (count) of files for a specific category\n",
    "        count = 0\n",
    "        for ch_no, data in self.chpterwised.items():\n",
    "            if category in data and data.get(category):  # Ensure category exists and has a value\n",
    "                count += 1\n",
    "        return count\n",
    "\n",
    "    \n",
    "\n",
    "    def run(self,n,base_dir):\n",
    "        self.base_dir = Path(base_dir)\n",
    "        self.load_files()\n",
    "        self.create_result()\n",
    "        self.organize_chapters(n)\n",
    "\n",
    "# Example usage:\n",
    "\n"
   ]
  },
  {
   "cell_type": "code",
   "execution_count": 168,
   "metadata": {},
   "outputs": [],
   "source": [
    "# Initialize the ChapterOrganizer class with the directory path you want\n",
    "chapter_organizer = ChapterOrganizer()  # You can provide any path here\n",
    "# chapter_organizer.run()\n",
    "\n",
    "# # Get the final chapter-wise data\n",
    "# print(chapter_organizer.get_chapterwise_data())\n"
   ]
  },
  {
   "cell_type": "code",
   "execution_count": 173,
   "metadata": {},
   "outputs": [],
   "source": [
    "chapter_organizer.run(n=15,base_dir='10science')"
   ]
  },
  {
   "cell_type": "code",
   "execution_count": 141,
   "metadata": {},
   "outputs": [],
   "source": [
    "a = chapter_organizer.load_files()\n",
    "a"
   ]
  },
  {
   "cell_type": "code",
   "execution_count": 142,
   "metadata": {},
   "outputs": [],
   "source": [
    "chapter_organizer.create_result()"
   ]
  },
  {
   "cell_type": "code",
   "execution_count": 174,
   "metadata": {},
   "outputs": [
    {
     "data": {
      "text/plain": [
       "{1: {'book': './10science/book/ch-1.pdf',\n",
       "  'markswise': './10science/markswise/Ch-1.pdf',\n",
       "  'Marks_Wise_Question': './10science/Marks_Wise_Question/Ch-1 Chemical reaction and equation.pdf',\n",
       "  'notes': './10science/notes/Chapter 1 Chemical Reaction and Equation.pdf',\n",
       "  'solution': './10science/solution/ch1.pdf',\n",
       "  'test': './10science/test/.emptyFolderPlaceholder',\n",
       "  'name': 'Chapter 1 Chemical reaction and equation'},\n",
       " 2: {'book': './10science/book/ch-2.pdf',\n",
       "  'markswise': './10science/markswise/Ch-2.pdf',\n",
       "  'Marks_Wise_Question': './10science/Marks_Wise_Question/Ch-2 Acids bases and salts.pdf',\n",
       "  'notes': './10science/notes/Chapter 2 Acids, Bases and Salts.pdf',\n",
       "  'solution': './10science/solution/ch2.pdf',\n",
       "  'test': '',\n",
       "  'name': 'Chapter 2 Acids, bases and salts'},\n",
       " 3: {'book': './10science/book/ch-3.pdf',\n",
       "  'markswise': './10science/markswise/Ch-3.pdf',\n",
       "  'Marks_Wise_Question': './10science/Marks_Wise_Question/Ch-3 metals and non metals.pdf',\n",
       "  'notes': './10science/notes/Chapter 3 METALS AND NON-METALS.pdf',\n",
       "  'solution': './10science/solution/ch3.pdf',\n",
       "  'test': '',\n",
       "  'name': 'Chapter 3 Metals and non-metals'},\n",
       " 4: {'book': './10science/book/ch-4.pdf',\n",
       "  'markswise': './10science/markswise/Ch-4.pdf',\n",
       "  'Marks_Wise_Question': './10science/Marks_Wise_Question/Ch-4 carbon and it_s compound.pdf',\n",
       "  'notes': './10science/notes/Chapter 4 CARBON AND ITS COMPOUNDS.pdf',\n",
       "  'solution': './10science/solution/ch4.pdf',\n",
       "  'test': '',\n",
       "  'name': 'Chapter 4 Carbon and its compounds'},\n",
       " 5: {'book': './10science/book/ch-5.pdf',\n",
       "  'markswise': './10science/markswise/Ch-6.pdf',\n",
       "  'Marks_Wise_Question': './10science/Marks_Wise_Question/Ch-6 life process .pdf',\n",
       "  'notes': './10science/notes/Chapter 5 PERIODIC CLASSIFICATION.pdf',\n",
       "  'solution': './10science/solution/ch5.pdf',\n",
       "  'test': '',\n",
       "  'name': 'Chapter 5 Periodic classification'},\n",
       " 6: {'book': './10science/book/ch-6.pdf',\n",
       "  'markswise': './10science/markswise/Ch-7.pdf',\n",
       "  'Marks_Wise_Question': './10science/Marks_Wise_Question/Ch-7 control And Coordinate.pdf',\n",
       "  'notes': './10science/notes/Chapter 6 LIFE PROCESS.pdf',\n",
       "  'solution': './10science/solution/ch6.pdf',\n",
       "  'test': '',\n",
       "  'name': 'Chapter 6 Life process'},\n",
       " 7: {'book': './10science/book/ch-7.pdf',\n",
       "  'markswise': './10science/markswise/Ch-8.pdf',\n",
       "  'Marks_Wise_Question': './10science/Marks_Wise_Question/Ch-8 How organism Reproduction.pdf',\n",
       "  'notes': './10science/notes/Chapter 8 HOW DO ORGANISM REPRODUCE.pdf',\n",
       "  'solution': './10science/solution/ch7.pdf',\n",
       "  'test': '',\n",
       "  'name': 'Chapter 8 How do organism reproduce'},\n",
       " 8: {'book': './10science/book/ch-8.pdf',\n",
       "  'markswise': './10science/markswise/Ch-9.pdf',\n",
       "  'Marks_Wise_Question': './10science/Marks_Wise_Question/Ch-9 Heredity and Evolution.pdf',\n",
       "  'notes': './10science/notes/Chapter 9 HEREDITY.pdf',\n",
       "  'solution': './10science/solution/ch8.pdf',\n",
       "  'test': '',\n",
       "  'name': 'Chapter 9 Heredity'},\n",
       " 9: {'book': './10science/book/ch-9.pdf',\n",
       "  'markswise': './10science/markswise/Ch-10.pdf',\n",
       "  'Marks_Wise_Question': './10science/Marks_Wise_Question/Ch-10 Light.pdf',\n",
       "  'notes': './10science/notes/Chapter 10 Light.pdf',\n",
       "  'solution': './10science/solution/ch9.pdf',\n",
       "  'test': '',\n",
       "  'name': 'Chapter 10 Light'},\n",
       " 10: {'book': './10science/book/ch-10.pdf',\n",
       "  'markswise': './10science/markswise/Ch-11.pdf',\n",
       "  'Marks_Wise_Question': './10science/Marks_Wise_Question/Ch-11 Human Eye and ....pdf',\n",
       "  'notes': './10science/notes/Chapter 11 HUMAN EYE AND COLOURFULL WORLD.pdf',\n",
       "  'solution': './10science/solution/ch10.pdf',\n",
       "  'test': '',\n",
       "  'name': 'Chapter 11 Human eye and colourfull world'},\n",
       " 11: {'book': './10science/book/ch-11.pdf',\n",
       "  'markswise': './10science/markswise/Ch-12.pdf',\n",
       "  'Marks_Wise_Question': './10science/Marks_Wise_Question/Ch-13 magnetic effect of current.pdf',\n",
       "  'notes': './10science/notes/Chapter 12 Electricity.pdf',\n",
       "  'solution': './10science/solution/ch11.pdf',\n",
       "  'test': '',\n",
       "  'name': 'Chapter 12 Electricity'},\n",
       " 12: {'book': './10science/book/ch-12.pdf',\n",
       "  'markswise': './10science/markswise/Ch-13.pdf',\n",
       "  'Marks_Wise_Question': './10science/Marks_Wise_Question/Ch-15 Our Environment.pdf',\n",
       "  'notes': './10science/notes/Chapter 13 MAGNETIC EFFECTS OF CURRENT.pdf',\n",
       "  'solution': './10science/solution/ch12.pdf',\n",
       "  'test': '',\n",
       "  'name': 'Chapter 13 Magnetic effects of current'},\n",
       " 13: {'book': './10science/book/ch-13.pdf',\n",
       "  'markswise': './10science/markswise/Ch-15.pdf',\n",
       "  'Marks_Wise_Question': '',\n",
       "  'notes': './10science/notes/Chapter 15  OUR ENVIRONMENT.pdf',\n",
       "  'solution': './10science/solution/ch13.pdf',\n",
       "  'test': '',\n",
       "  'name': 'Chapter 15  our environment'},\n",
       " 14: {'book': './10science/book/ch-14.pdf',\n",
       "  'markswise': '',\n",
       "  'Marks_Wise_Question': '',\n",
       "  'notes': '',\n",
       "  'solution': './10science/solution/ch14.pdf',\n",
       "  'test': '',\n",
       "  'name': ''},\n",
       " 15: {'book': './10science/book/ch-15.pdf',\n",
       "  'markswise': '',\n",
       "  'Marks_Wise_Question': '',\n",
       "  'notes': '',\n",
       "  'solution': './10science/solution/ch15.pdf',\n",
       "  'test': '',\n",
       "  'name': ''}}"
      ]
     },
     "execution_count": 174,
     "metadata": {},
     "output_type": "execute_result"
    }
   ],
   "source": [
    "chapter_organizer.chpterwised"
   ]
  },
  {
   "cell_type": "code",
   "execution_count": 175,
   "metadata": {},
   "outputs": [],
   "source": [
    "n = chapter_organizer.get_len(category='notes')"
   ]
  },
  {
   "cell_type": "code",
   "execution_count": 176,
   "metadata": {},
   "outputs": [
    {
     "data": {
      "text/plain": [
       "13"
      ]
     },
     "execution_count": 176,
     "metadata": {},
     "output_type": "execute_result"
    }
   ],
   "source": [
    "n"
   ]
  },
  {
   "cell_type": "code",
   "execution_count": 158,
   "metadata": {},
   "outputs": [
    {
     "data": {
      "text/plain": [
       "{1: {'book': './9science/book/ch-1.pdf',\n",
       "  'markswise': './9science/markswise/ch-1 Matter in our ...pdf',\n",
       "  'notes': './9science/notes/Chapter 1 Matter in Our Surroundings.pdf',\n",
       "  'solution': './9science/solution/ch1.pdf',\n",
       "  'name': 'Chapter 1 Matter in our surroundings'},\n",
       " 2: {'book': './9science/book/ch-2.pdf',\n",
       "  'markswise': './9science/markswise/ch-2 Is matter in ....pdf',\n",
       "  'notes': './9science/notes/Chapter 2 Is Matter Around Us Pure.pdf',\n",
       "  'solution': './9science/solution/ch2.pdf',\n",
       "  'name': 'Chapter 2 Is matter around us pure'},\n",
       " 3: {'book': './9science/book/ch-3.pdf',\n",
       "  'markswise': './9science/markswise/ch-3 Atoms and molecules.pdf',\n",
       "  'notes': './9science/notes/Chapter 3 Atoms and molecules.pdf',\n",
       "  'solution': './9science/solution/ch3.pdf',\n",
       "  'name': 'Chapter 3 Atoms and molecules'},\n",
       " 4: {'book': './9science/book/ch-4.pdf',\n",
       "  'markswise': './9science/markswise/ch-4 Structure of Atom.pdf',\n",
       "  'notes': './9science/notes/Chapter 4  Structure of atom.pdf',\n",
       "  'solution': './9science/solution/ch4.pdf',\n",
       "  'name': 'Chapter 4  structure of atom'}}"
      ]
     },
     "execution_count": 158,
     "metadata": {},
     "output_type": "execute_result"
    }
   ],
   "source": [
    "chapter_organizer.chpterwised"
   ]
  },
  {
   "cell_type": "code",
   "execution_count": 79,
   "metadata": {},
   "outputs": [],
   "source": [
    "result = {}\n",
    "category = 'notes'\n",
    "for k,u in  chapter_organizer.chpterwised.items():\n",
    "    if category in u:\n",
    "         result[k] = {\n",
    "              'name':u['name'],\n",
    "               category:u[category] \n",
    "         }\n",
    "\n",
    "# data = chapter_organizer.query('notes')"
   ]
  },
  {
   "cell_type": "code",
   "execution_count": 117,
   "metadata": {},
   "outputs": [],
   "source": [
    "data = chapter_organizer.query(category='notes')"
   ]
  },
  {
   "cell_type": "code",
   "execution_count": 118,
   "metadata": {},
   "outputs": [
    {
     "data": {
      "text/plain": [
       "{1: {'name': 'Ch-1 Chemical reaction and equation',\n",
       "  'filepath': './10science/notes/CH-1 Chemical Reaction.pdf'},\n",
       " 2: {'name': 'Ch-2 Acids bases and salts',\n",
       "  'filepath': './10science/notes/CH-2 Acids, Bases and Salts.pdf'},\n",
       " 3: {'name': 'Ch-3 Metals and non metals',\n",
       "  'filepath': './10science/notes/Ch-3 METALS AND NON-METALS.pdf'},\n",
       " 4: {'name': 'Ch-4 Carbon and it_s compound',\n",
       "  'filepath': './10science/notes/CH-4 CARBON AND ITS COMPOUNDS.pdf'}}"
      ]
     },
     "execution_count": 118,
     "metadata": {},
     "output_type": "execute_result"
    }
   ],
   "source": [
    "data"
   ]
  },
  {
   "cell_type": "code",
   "execution_count": 50,
   "metadata": {},
   "outputs": [
    {
     "data": {
      "text/plain": [
       "{}"
      ]
     },
     "execution_count": 50,
     "metadata": {},
     "output_type": "execute_result"
    }
   ],
   "source": [
    "chapter_organizer.query('notes')"
   ]
  },
  {
   "cell_type": "code",
   "execution_count": 119,
   "metadata": {},
   "outputs": [],
   "source": [
    "s = \"10th\""
   ]
  },
  {
   "cell_type": "code",
   "execution_count": 121,
   "metadata": {},
   "outputs": [
    {
     "data": {
      "text/plain": [
       "'10science'"
      ]
     },
     "execution_count": 121,
     "metadata": {},
     "output_type": "execute_result"
    }
   ],
   "source": [
    "s.split('t')[0]+'science'"
   ]
  },
  {
   "cell_type": "code",
   "execution_count": 1,
   "metadata": {},
   "outputs": [
    {
     "ename": "SyntaxError",
     "evalue": "invalid character '📗' (U+1F4D7) (3143211840.py, line 1)",
     "output_type": "error",
     "traceback": [
      "\u001b[1;36m  Cell \u001b[1;32mIn[1], line 1\u001b[1;36m\u001b[0m\n\u001b[1;33m    book = [📗,📘,📕,📖,📗,📘,📕]\u001b[0m\n\u001b[1;37m            ^\u001b[0m\n\u001b[1;31mSyntaxError\u001b[0m\u001b[1;31m:\u001b[0m invalid character '📗' (U+1F4D7)\n"
     ]
    }
   ],
   "source": [
    "book = [📗,📘,📕,📖,📗,📘,📕]\n"
   ]
  },
  {
   "cell_type": "code",
   "execution_count": null,
   "metadata": {},
   "outputs": [],
   "source": []
  }
 ],
 "metadata": {
  "kernelspec": {
   "display_name": "env",
   "language": "python",
   "name": "python3"
  },
  "language_info": {
   "codemirror_mode": {
    "name": "ipython",
    "version": 3
   },
   "file_extension": ".py",
   "mimetype": "text/x-python",
   "name": "python",
   "nbconvert_exporter": "python",
   "pygments_lexer": "ipython3",
   "version": "3.11.9"
  }
 },
 "nbformat": 4,
 "nbformat_minor": 2
}
